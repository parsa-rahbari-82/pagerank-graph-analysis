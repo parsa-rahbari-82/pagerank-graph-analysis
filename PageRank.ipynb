{
  "nbformat": 4,
  "nbformat_minor": 0,
  "metadata": {
    "colab": {
      "provenance": []
    },
    "kernelspec": {
      "name": "python3",
      "display_name": "Python 3"
    },
    "language_info": {
      "name": "python"
    }
  },
  "cells": [
    {
      "cell_type": "markdown",
      "source": [
        "# Upload dataset"
      ],
      "metadata": {
        "id": "AXm-chcTW_UK"
      }
    },
    {
      "cell_type": "code",
      "execution_count": null,
      "metadata": {
        "id": "j71CFbvRVatl",
        "colab": {
          "base_uri": "https://localhost:8080/",
          "height": 75
        },
        "outputId": "a4b21e24-bb1f-4807-8de8-24ce379f669b"
      },
      "outputs": [
        {
          "output_type": "display_data",
          "data": {
            "text/plain": [
              "<IPython.core.display.HTML object>"
            ],
            "text/html": [
              "\n",
              "     <input type=\"file\" id=\"files-f9e4fd7b-3905-45ac-a58b-62b2a1e4ef87\" name=\"files[]\" multiple disabled\n",
              "        style=\"border:none\" />\n",
              "     <output id=\"result-f9e4fd7b-3905-45ac-a58b-62b2a1e4ef87\">\n",
              "      Upload widget is only available when the cell has been executed in the\n",
              "      current browser session. Please rerun this cell to enable.\n",
              "      </output>\n",
              "      <script>// Copyright 2017 Google LLC\n",
              "//\n",
              "// Licensed under the Apache License, Version 2.0 (the \"License\");\n",
              "// you may not use this file except in compliance with the License.\n",
              "// You may obtain a copy of the License at\n",
              "//\n",
              "//      http://www.apache.org/licenses/LICENSE-2.0\n",
              "//\n",
              "// Unless required by applicable law or agreed to in writing, software\n",
              "// distributed under the License is distributed on an \"AS IS\" BASIS,\n",
              "// WITHOUT WARRANTIES OR CONDITIONS OF ANY KIND, either express or implied.\n",
              "// See the License for the specific language governing permissions and\n",
              "// limitations under the License.\n",
              "\n",
              "/**\n",
              " * @fileoverview Helpers for google.colab Python module.\n",
              " */\n",
              "(function(scope) {\n",
              "function span(text, styleAttributes = {}) {\n",
              "  const element = document.createElement('span');\n",
              "  element.textContent = text;\n",
              "  for (const key of Object.keys(styleAttributes)) {\n",
              "    element.style[key] = styleAttributes[key];\n",
              "  }\n",
              "  return element;\n",
              "}\n",
              "\n",
              "// Max number of bytes which will be uploaded at a time.\n",
              "const MAX_PAYLOAD_SIZE = 100 * 1024;\n",
              "\n",
              "function _uploadFiles(inputId, outputId) {\n",
              "  const steps = uploadFilesStep(inputId, outputId);\n",
              "  const outputElement = document.getElementById(outputId);\n",
              "  // Cache steps on the outputElement to make it available for the next call\n",
              "  // to uploadFilesContinue from Python.\n",
              "  outputElement.steps = steps;\n",
              "\n",
              "  return _uploadFilesContinue(outputId);\n",
              "}\n",
              "\n",
              "// This is roughly an async generator (not supported in the browser yet),\n",
              "// where there are multiple asynchronous steps and the Python side is going\n",
              "// to poll for completion of each step.\n",
              "// This uses a Promise to block the python side on completion of each step,\n",
              "// then passes the result of the previous step as the input to the next step.\n",
              "function _uploadFilesContinue(outputId) {\n",
              "  const outputElement = document.getElementById(outputId);\n",
              "  const steps = outputElement.steps;\n",
              "\n",
              "  const next = steps.next(outputElement.lastPromiseValue);\n",
              "  return Promise.resolve(next.value.promise).then((value) => {\n",
              "    // Cache the last promise value to make it available to the next\n",
              "    // step of the generator.\n",
              "    outputElement.lastPromiseValue = value;\n",
              "    return next.value.response;\n",
              "  });\n",
              "}\n",
              "\n",
              "/**\n",
              " * Generator function which is called between each async step of the upload\n",
              " * process.\n",
              " * @param {string} inputId Element ID of the input file picker element.\n",
              " * @param {string} outputId Element ID of the output display.\n",
              " * @return {!Iterable<!Object>} Iterable of next steps.\n",
              " */\n",
              "function* uploadFilesStep(inputId, outputId) {\n",
              "  const inputElement = document.getElementById(inputId);\n",
              "  inputElement.disabled = false;\n",
              "\n",
              "  const outputElement = document.getElementById(outputId);\n",
              "  outputElement.innerHTML = '';\n",
              "\n",
              "  const pickedPromise = new Promise((resolve) => {\n",
              "    inputElement.addEventListener('change', (e) => {\n",
              "      resolve(e.target.files);\n",
              "    });\n",
              "  });\n",
              "\n",
              "  const cancel = document.createElement('button');\n",
              "  inputElement.parentElement.appendChild(cancel);\n",
              "  cancel.textContent = 'Cancel upload';\n",
              "  const cancelPromise = new Promise((resolve) => {\n",
              "    cancel.onclick = () => {\n",
              "      resolve(null);\n",
              "    };\n",
              "  });\n",
              "\n",
              "  // Wait for the user to pick the files.\n",
              "  const files = yield {\n",
              "    promise: Promise.race([pickedPromise, cancelPromise]),\n",
              "    response: {\n",
              "      action: 'starting',\n",
              "    }\n",
              "  };\n",
              "\n",
              "  cancel.remove();\n",
              "\n",
              "  // Disable the input element since further picks are not allowed.\n",
              "  inputElement.disabled = true;\n",
              "\n",
              "  if (!files) {\n",
              "    return {\n",
              "      response: {\n",
              "        action: 'complete',\n",
              "      }\n",
              "    };\n",
              "  }\n",
              "\n",
              "  for (const file of files) {\n",
              "    const li = document.createElement('li');\n",
              "    li.append(span(file.name, {fontWeight: 'bold'}));\n",
              "    li.append(span(\n",
              "        `(${file.type || 'n/a'}) - ${file.size} bytes, ` +\n",
              "        `last modified: ${\n",
              "            file.lastModifiedDate ? file.lastModifiedDate.toLocaleDateString() :\n",
              "                                    'n/a'} - `));\n",
              "    const percent = span('0% done');\n",
              "    li.appendChild(percent);\n",
              "\n",
              "    outputElement.appendChild(li);\n",
              "\n",
              "    const fileDataPromise = new Promise((resolve) => {\n",
              "      const reader = new FileReader();\n",
              "      reader.onload = (e) => {\n",
              "        resolve(e.target.result);\n",
              "      };\n",
              "      reader.readAsArrayBuffer(file);\n",
              "    });\n",
              "    // Wait for the data to be ready.\n",
              "    let fileData = yield {\n",
              "      promise: fileDataPromise,\n",
              "      response: {\n",
              "        action: 'continue',\n",
              "      }\n",
              "    };\n",
              "\n",
              "    // Use a chunked sending to avoid message size limits. See b/62115660.\n",
              "    let position = 0;\n",
              "    do {\n",
              "      const length = Math.min(fileData.byteLength - position, MAX_PAYLOAD_SIZE);\n",
              "      const chunk = new Uint8Array(fileData, position, length);\n",
              "      position += length;\n",
              "\n",
              "      const base64 = btoa(String.fromCharCode.apply(null, chunk));\n",
              "      yield {\n",
              "        response: {\n",
              "          action: 'append',\n",
              "          file: file.name,\n",
              "          data: base64,\n",
              "        },\n",
              "      };\n",
              "\n",
              "      let percentDone = fileData.byteLength === 0 ?\n",
              "          100 :\n",
              "          Math.round((position / fileData.byteLength) * 100);\n",
              "      percent.textContent = `${percentDone}% done`;\n",
              "\n",
              "    } while (position < fileData.byteLength);\n",
              "  }\n",
              "\n",
              "  // All done.\n",
              "  yield {\n",
              "    response: {\n",
              "      action: 'complete',\n",
              "    }\n",
              "  };\n",
              "}\n",
              "\n",
              "scope.google = scope.google || {};\n",
              "scope.google.colab = scope.google.colab || {};\n",
              "scope.google.colab._files = {\n",
              "  _uploadFiles,\n",
              "  _uploadFilesContinue,\n",
              "};\n",
              "})(self);\n",
              "</script> "
            ]
          },
          "metadata": {}
        },
        {
          "output_type": "stream",
          "name": "stdout",
          "text": [
            "Saving dataset.zip to dataset.zip\n"
          ]
        }
      ],
      "source": [
        "from google.colab import files\n",
        "uploaded = files.upload()"
      ]
    },
    {
      "cell_type": "code",
      "source": [
        "!unzip dataset.zip"
      ],
      "metadata": {
        "id": "_zzalYRcW-x7",
        "colab": {
          "base_uri": "https://localhost:8080/"
        },
        "outputId": "fa3d1cdb-529e-4f7b-e21f-e8514d1a5f21"
      },
      "execution_count": null,
      "outputs": [
        {
          "output_type": "stream",
          "name": "stdout",
          "text": [
            "Archive:  dataset.zip\n",
            "  inflating: web-BerkStan.mtx        \n"
          ]
        }
      ]
    },
    {
      "cell_type": "markdown",
      "source": [
        "# Import Libraries and constants"
      ],
      "metadata": {
        "id": "-FH2L5QlUHc7"
      }
    },
    {
      "cell_type": "code",
      "source": [
        "import numpy as np\n",
        "from scipy.io import mmread\n",
        "import networkx as nx\n",
        "\n",
        "alphas = [0.1, 0.85, 0.95]"
      ],
      "metadata": {
        "id": "EVM6ga7aT3Jj"
      },
      "execution_count": null,
      "outputs": []
    },
    {
      "cell_type": "markdown",
      "source": [
        "# Loading the file"
      ],
      "metadata": {
        "id": "RPhgjLhIXqbf"
      }
    },
    {
      "cell_type": "code",
      "source": [
        "sparse_matrix = mmread('web-BerkStan.mtx')\n",
        "csr_matrix = sparse_matrix.tocsr()\n",
        "subset = csr_matrix[:1000, :1000]\n",
        "matrix = subset.toarray()\n",
        "print(matrix.shape)"
      ],
      "metadata": {
        "colab": {
          "base_uri": "https://localhost:8080/"
        },
        "id": "NIrMbrs2Xc8c",
        "outputId": "36664a10-f2fc-40be-9a1e-e978d6952a37"
      },
      "execution_count": null,
      "outputs": [
        {
          "output_type": "stream",
          "name": "stdout",
          "text": [
            "(1000, 1000)\n"
          ]
        }
      ]
    },
    {
      "cell_type": "markdown",
      "source": [
        "# Question 1"
      ],
      "metadata": {
        "id": "KZVzshfIiVlz"
      }
    },
    {
      "cell_type": "markdown",
      "source": [
        "# Power iteration implementation"
      ],
      "metadata": {
        "id": "JkdunY77gS9V"
      }
    },
    {
      "cell_type": "code",
      "source": [
        "def compute_pagerank(adjacency_matrix, alpha=0.85, tolerance=1e-6, max_iterations=100):\n",
        "    num_nodes = adjacency_matrix.shape[0]\n",
        "    outgoing_links = adjacency_matrix.sum(axis=1)\n",
        "\n",
        "    dangling_mask = (outgoing_links == 0)\n",
        "    adjacency_matrix[dangling_mask] = np.ones(num_nodes)\n",
        "    outgoing_links = adjacency_matrix.sum(axis=1)\n",
        "\n",
        "    transition_probabilities = (adjacency_matrix.T / outgoing_links).T\n",
        "\n",
        "    rank_values = np.full(num_nodes, 1 / num_nodes)\n",
        "\n",
        "    for _ in range(max_iterations):\n",
        "        updated_ranks = alpha * (transition_probabilities.T @ rank_values) + (1 - alpha) / num_nodes\n",
        "\n",
        "        if np.linalg.norm(updated_ranks - rank_values, ord=1) < tolerance:\n",
        "            break\n",
        "\n",
        "        rank_values = updated_ranks\n",
        "\n",
        "    ranked_nodes = sorted(enumerate(rank_values), key=lambda x: x[1], reverse=True)\n",
        "    return ranked_nodes\n",
        "\n",
        "%timeit compute_pagerank(matrix)\n",
        "for alpha in alphas:\n",
        "    ranks = compute_pagerank(matrix, alpha=alpha)\n",
        "    ranks = [rank[0] for rank in ranks]\n",
        "    print(f\"Alpha: {alpha}, Ranks: {ranks[:20]}\")"
      ],
      "metadata": {
        "colab": {
          "base_uri": "https://localhost:8080/"
        },
        "id": "ZrxXyVV_YIlh",
        "outputId": "963a105f-ea04-49a7-cbb0-7adecf29df23"
      },
      "execution_count": null,
      "outputs": [
        {
          "output_type": "stream",
          "name": "stdout",
          "text": [
            "38.9 ms ± 14 ms per loop (mean ± std. dev. of 7 runs, 10 loops each)\n",
            "Alpha: 0.1, Ranks: [39, 860, 767, 371, 256, 926, 23, 295, 509, 329, 612, 692, 459, 564, 425, 742, 32, 197, 232, 160]\n",
            "Alpha: 0.85, Ranks: [860, 767, 39, 926, 371, 742, 934, 256, 803, 32, 967, 944, 714, 719, 923, 720, 295, 329, 812, 197]\n",
            "Alpha: 0.95, Ranks: [860, 767, 926, 39, 812, 866, 863, 865, 804, 805, 371, 742, 256, 934, 803, 967, 944, 32, 714, 719]\n"
          ]
        }
      ]
    },
    {
      "cell_type": "markdown",
      "source": [
        "# np.linalg.eig implementation"
      ],
      "metadata": {
        "id": "gzMg6n5cgWSb"
      }
    },
    {
      "cell_type": "code",
      "source": [
        "def compute_pagerank(adjacency_matrix, alpha=0.85):\n",
        "    num_nodes = adjacency_matrix.shape[0]\n",
        "    out_degrees = adjacency_matrix.sum(axis=1)\n",
        "\n",
        "    dangling_nodes = (out_degrees == 0)\n",
        "    adjacency_matrix[dangling_nodes] = np.ones(num_nodes)\n",
        "    out_degrees = adjacency_matrix.sum(axis=1)\n",
        "\n",
        "    transition_matrix = (adjacency_matrix.T / out_degrees).T\n",
        "\n",
        "    google_matrix = alpha * transition_matrix + (1 - alpha) / num_nodes\n",
        "\n",
        "    eigenvalues, eigenvectors = np.linalg.eig(google_matrix.T)\n",
        "    dominant_eigenvector = np.abs(eigenvectors[:, np.argmax(eigenvalues.real)])\n",
        "\n",
        "    rank_scores = dominant_eigenvector / np.sum(dominant_eigenvector)\n",
        "\n",
        "    ranked_nodes = sorted(enumerate(rank_scores), key=lambda x: x[1], reverse=True)\n",
        "    return ranked_nodes\n",
        "\n",
        "%timeit compute_pagerank(matrix)\n",
        "for alpha in alphas:\n",
        "    ranks = compute_pagerank(matrix, alpha=alpha)\n",
        "    ranks = [rank[0] for rank in ranks]\n",
        "    print(f\"Alpha: {alpha}, Ranks: {ranks[:20]}\")"
      ],
      "metadata": {
        "colab": {
          "base_uri": "https://localhost:8080/"
        },
        "id": "vq_FgvVOaU8Q",
        "outputId": "16bbb129-c087-4a91-8527-da4cccaf2e61"
      },
      "execution_count": null,
      "outputs": [
        {
          "output_type": "stream",
          "name": "stdout",
          "text": [
            "1.88 s ± 533 ms per loop (mean ± std. dev. of 7 runs, 1 loop each)\n",
            "Alpha: 0.1, Ranks: [39, 860, 767, 371, 256, 926, 23, 295, 509, 329, 612, 692, 459, 564, 425, 742, 32, 197, 232, 160]\n",
            "Alpha: 0.85, Ranks: [860, 767, 39, 926, 371, 742, 934, 256, 803, 32, 967, 944, 714, 923, 719, 720, 295, 329, 812, 197]\n",
            "Alpha: 0.95, Ranks: [860, 767, 926, 39, 812, 866, 863, 805, 804, 865, 371, 742, 256, 934, 803, 967, 944, 32, 714, 719]\n"
          ]
        }
      ]
    },
    {
      "cell_type": "markdown",
      "source": [
        "# networkx implementation"
      ],
      "metadata": {
        "id": "DImYN3ASgbEx"
      }
    },
    {
      "cell_type": "code",
      "source": [
        "def pagerank(adj_matrix, alpha=0.85):\n",
        "    G = nx.DiGraph(adj_matrix)\n",
        "    ranks = nx.pagerank(G, alpha=alpha)\n",
        "    sorted_ranks = sorted(ranks.items(), key=lambda item: item[1], reverse=True)\n",
        "    return sorted_ranks\n",
        "\n",
        "%timeit pagerank(matrix)\n",
        "for alpha in alphas:\n",
        "    ranks = pagerank(matrix, alpha=alpha)\n",
        "    ranks = [rank[0] for rank in ranks]\n",
        "    print(f\"Alpha: {alpha}, Ranks: {ranks[:20]}\")"
      ],
      "metadata": {
        "colab": {
          "base_uri": "https://localhost:8080/"
        },
        "id": "mtbE57Q7b4RY",
        "outputId": "de7f1ff2-aea8-40a1-f9a0-d5f0ecb9cba8"
      },
      "execution_count": null,
      "outputs": [
        {
          "output_type": "stream",
          "name": "stdout",
          "text": [
            "117 ms ± 45.8 ms per loop (mean ± std. dev. of 7 runs, 10 loops each)\n",
            "Alpha: 0.1, Ranks: [39, 860, 767, 371, 256, 926, 23, 295, 509, 329, 612, 692, 459, 564, 425, 742, 32, 197, 232, 160]\n",
            "Alpha: 0.85, Ranks: [860, 767, 39, 926, 371, 742, 934, 256, 803, 32, 967, 944, 714, 719, 923, 720, 295, 329, 812, 197]\n",
            "Alpha: 0.95, Ranks: [860, 767, 926, 39, 812, 866, 863, 804, 805, 865, 371, 742, 934, 256, 803, 967, 944, 32, 714, 719]\n"
          ]
        }
      ]
    },
    {
      "cell_type": "markdown",
      "source": [
        "# Question 2"
      ],
      "metadata": {
        "id": "b0cfQprjiR0K"
      }
    },
    {
      "cell_type": "code",
      "source": [
        "def compute_edge_rank(adj_matrix, page_rank_scores, damping=0.85):\n",
        "    num_nodes = adj_matrix.shape[0]\n",
        "\n",
        "    out_degrees = np.sum(adj_matrix, axis=1)\n",
        "\n",
        "    edge_rank = {}\n",
        "    for i in range(num_nodes):\n",
        "        for j in range(num_nodes):\n",
        "            if adj_matrix[i, j] == 1:\n",
        "                if out_degrees[i] == 0:\n",
        "                    continue\n",
        "                contribution = damping * page_rank_scores[i] / out_degrees[i]\n",
        "                edge_rank[(i, j)] = contribution\n",
        "\n",
        "    return edge_rank\n",
        "\n",
        "adj_matrix = np.zeros((11, 11))\n",
        "#applying A roads\n",
        "adj_matrix[2][3] = 1\n",
        "adj_matrix[3][4] = 1\n",
        "adj_matrix[4][5] = 1\n",
        "#applying B roads\n",
        "adj_matrix[9][8] = 1\n",
        "adj_matrix[8][7] = 1\n",
        "adj_matrix[7][6] = 1\n",
        "#applying D roads\n",
        "adj_matrix[0][3] = 1\n",
        "adj_matrix[3][7] = 1\n",
        "#applying E roads\n",
        "adj_matrix[1][4] = 1\n",
        "adj_matrix[10][8] = 1\n",
        "adj_matrix[8][4] = 1\n",
        "adj_matrix[4][8] = 1\n",
        "\n",
        "\n",
        "ranks = pagerank(adj_matrix)\n",
        "page_rank_scores = [x[1] for x in ranks]\n",
        "compute_edge_rank(adj_matrix, page_rank_scores)"
      ],
      "metadata": {
        "colab": {
          "base_uri": "https://localhost:8080/"
        },
        "id": "unKKyoz5jubk",
        "outputId": "0c84023c-3668-4637-9e6e-21754814ea2c"
      },
      "execution_count": null,
      "outputs": [
        {
          "output_type": "execute_result",
          "data": {
            "text/plain": [
              "{(0, 3): 0.1455393860105159,\n",
              " (1, 4): 0.13953227237354224,\n",
              " (2, 3): 0.13169122103402006,\n",
              " (3, 4): 0.06054256978546994,\n",
              " (3, 7): 0.06054256978546994,\n",
              " (4, 5): 0.04531188974719507,\n",
              " (4, 8): 0.04531188974719507,\n",
              " (7, 6): 0.028769951439573335,\n",
              " (8, 4): 0.014384975719786667,\n",
              " (8, 7): 0.014384975719786667,\n",
              " (9, 8): 0.028769951439573335,\n",
              " (10, 8): 0.028769951439573335}"
            ]
          },
          "metadata": {},
          "execution_count": 10
        }
      ]
    }
  ]
}